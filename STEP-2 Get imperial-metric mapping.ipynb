{
 "cells": [
  {
   "cell_type": "code",
   "execution_count": 1,
   "metadata": {},
   "outputs": [],
   "source": [
    "import pandas as pd"
   ]
  },
  {
   "cell_type": "code",
   "execution_count": 2,
   "metadata": {},
   "outputs": [],
   "source": [
    "# Import reports\n",
    "fasteners = pd.read_excel('exportBoulonnerie.xlsx')"
   ]
  },
  {
   "cell_type": "code",
   "execution_count": 3,
   "metadata": {},
   "outputs": [],
   "source": [
    "# Filter rows \n",
    "fasteners = fasteners[~(fasteners.STOCKINGTYPE=='O')]\n",
    "fasteners = fasteners[~(fasteners.ITEMNO == fasteners.ITEMCONVERTI)]\n",
    "fasteners = fasteners[~(fasteners.DESC2.str.contains(pat='MM|M\\d{1,2}', regex=True))]\n",
    "fasteners = fasteners[fasteners.TYPECONVERSION != 5]\n",
    "fasteners = fasteners[fasteners.TYPECONVERSION != 3]"
   ]
  },
  {
   "cell_type": "code",
   "execution_count": 4,
   "metadata": {},
   "outputs": [],
   "source": [
    "#strip COLUMNS in df fasteners:\n",
    "fasteners['SEARCHTEXT'] = fasteners.SEARCHTEXT.str.strip()\n",
    "fasteners['SEARCHTEXT_1'] = fasteners.SEARCHTEXT.str.strip()\n",
    "fasteners['ITEMCONVERTI'] = fasteners.ITEMCONVERTI.str.strip()\n",
    "fasteners['ITEMNO'] = fasteners.ITEMNO.str.strip()"
   ]
  },
  {
   "cell_type": "code",
   "execution_count": 5,
   "metadata": {},
   "outputs": [],
   "source": [
    "# Import JDE into a dataframe:\n",
    "jde = pd.read_csv('temporary_jde.csv')\n",
    "jde = jde[[ \n",
    " 'item_number',\n",
    " 'description_1',\n",
    " 'description_2',\n",
    " 'search_text',\n",
    " 'comm_class',\n",
    " 'item_pool',\n",
    "]]\n",
    "# Strip columns\n",
    "jde.search_text = jde.search_text.str.strip()\n",
    "jde.item_number = jde.item_number.str.strip()\n",
    "jde.comm_class = jde.comm_class.str.strip()\n",
    "jde = jde[jde.comm_class.isin(['50','90'])]\n",
    "jde = jde[['item_number','search_text']]\n",
    "jde = jde.rename(columns={'item_number':'item_jde','search_text':'material_jde'})\n",
    "jde = jde.set_index('item_jde')"
   ]
  },
  {
   "cell_type": "code",
   "execution_count": 6,
   "metadata": {},
   "outputs": [],
   "source": [
    "fasteners = fasteners[['ITEMNO','SEARCHTEXT','TYPECONVERSION','ITEMCONVERTI','SEARCHTEXT_1']]\n",
    "\n",
    "# ADD MATERIAL FROM JDE TO FASTENERS ITEMCONVERTI\n",
    "fasteners = fasteners.join(jde , on='ITEMCONVERTI' )\n",
    "fasteners = fasteners.rename(columns = {'material_jde':'ITEMCONVERTI_MAT'})\n",
    "fasterners = fasteners[['ITEMNO',\n",
    " 'SEARCHTEXT',\n",
    " 'TYPECONVERSION',\n",
    " 'ITEMCONVERTI',\n",
    " 'SEARCHTEXT_1',\n",
    " 'ITEMCONVERTI_MAT',\n",
    " ]]\n",
    "fasteners = fasteners[fasteners.SEARCHTEXT == fasteners.ITEMCONVERTI_MAT]"
   ]
  },
  {
   "cell_type": "code",
   "execution_count": 7,
   "metadata": {},
   "outputs": [],
   "source": [
    "# Change all data to interger:\n",
    "items = fasteners[['ITEMNO','ITEMCONVERTI']].astype('int')\n",
    "dictionnary = items.set_index('ITEMNO').to_dict()\n",
    "mapping = dictionnary['ITEMCONVERTI']"
   ]
  },
  {
   "cell_type": "code",
   "execution_count": 12,
   "metadata": {},
   "outputs": [
    {
     "data": {
      "text/plain": [
       "396"
      ]
     },
     "execution_count": 12,
     "metadata": {},
     "output_type": "execute_result"
    }
   ],
   "source": [
    "len(mapping)"
   ]
  }
 ],
 "metadata": {
  "kernelspec": {
   "display_name": "Python 3",
   "language": "python",
   "name": "python3"
  },
  "language_info": {
   "codemirror_mode": {
    "name": "ipython",
    "version": 3
   },
   "file_extension": ".py",
   "mimetype": "text/x-python",
   "name": "python",
   "nbconvert_exporter": "python",
   "pygments_lexer": "ipython3",
   "version": "3.7.3"
  }
 },
 "nbformat": 4,
 "nbformat_minor": 2
}
