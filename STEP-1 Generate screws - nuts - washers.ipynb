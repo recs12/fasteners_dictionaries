{
 "cells": [
  {
   "cell_type": "code",
   "execution_count": 27,
   "metadata": {},
   "outputs": [],
   "source": [
    "import pandas as pd"
   ]
  },
  {
   "cell_type": "code",
   "execution_count": 28,
   "metadata": {},
   "outputs": [],
   "source": [
    "def create_dict_from(filename):\n",
    "    fasteners = pd.read_excel(filename)\n",
    "    fasteners = fasteners[['Filename','Document Number']]\n",
    "    fasteners = fasteners.set_index('Filename')\n",
    "    fasteners = fasteners.sort_index()\n",
    "    fasteners = fasteners.to_dict('dict')['Document Number']\n",
    "    file_name, extension = filename.split('.')\n",
    "    file_py = file_name + '.py'\n",
    "    with open(file_py, 'a') as f:\n",
    "        f.write(\"%s = {\\n\" %file_name)\n",
    "        for i,j in fasteners.items():\n",
    "            f.write(f\"\\t\\\"{i}\\\": {j},\\n\")\n",
    "        f.write(\"}\")"
   ]
  },
  {
   "cell_type": "code",
   "execution_count": 29,
   "metadata": {},
   "outputs": [],
   "source": [
    "create_dict_from('nuts.xlsx')\n",
    "create_dict_from('screws.xlsx')\n",
    "create_dict_from('washers.xlsx')"
   ]
  }
 ],
 "metadata": {
  "kernelspec": {
   "display_name": "Python 3",
   "language": "python",
   "name": "python3"
  },
  "language_info": {
   "codemirror_mode": {
    "name": "ipython",
    "version": 3
   },
   "file_extension": ".py",
   "mimetype": "text/x-python",
   "name": "python",
   "nbconvert_exporter": "python",
   "pygments_lexer": "ipython3",
   "version": "3.7.3"
  }
 },
 "nbformat": 4,
 "nbformat_minor": 2
}
