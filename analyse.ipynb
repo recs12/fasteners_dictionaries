{
 "cells": [
  {
   "cell_type": "code",
   "execution_count": 21,
   "metadata": {},
   "outputs": [],
   "source": [
    "import pandas as pd"
   ]
  },
  {
   "cell_type": "code",
   "execution_count": 22,
   "metadata": {},
   "outputs": [],
   "source": [
    "fasteners = pd.read_excel('exportBoulonnerie.xlsx')"
   ]
  },
  {
   "cell_type": "code",
   "execution_count": 23,
   "metadata": {},
   "outputs": [
    {
     "data": {
      "text/plain": [
       "16764"
      ]
     },
     "execution_count": 23,
     "metadata": {},
     "output_type": "execute_result"
    }
   ],
   "source": [
    "len(fasteners)"
   ]
  },
  {
   "cell_type": "markdown",
   "metadata": {},
   "source": [
    "strategy:\n",
    "     remove stocking O   \n",
    "     removing stocking type\n",
    "     add column material type\n",
    "     add column metric/imperial type\n",
    "     remove line that refer to same jde number"
   ]
  },
  {
   "cell_type": "code",
   "execution_count": 24,
   "metadata": {},
   "outputs": [],
   "source": [
    "fasteners = fasteners[~(fasteners.STOCKINGTYPE=='O')]"
   ]
  },
  {
   "cell_type": "code",
   "execution_count": 25,
   "metadata": {},
   "outputs": [
    {
     "data": {
      "text/plain": [
       "16110"
      ]
     },
     "execution_count": 25,
     "metadata": {},
     "output_type": "execute_result"
    }
   ],
   "source": [
    "len(fasteners)"
   ]
  },
  {
   "cell_type": "code",
   "execution_count": 26,
   "metadata": {},
   "outputs": [
    {
     "data": {
      "text/html": [
       "<div>\n",
       "<style scoped>\n",
       "    .dataframe tbody tr th:only-of-type {\n",
       "        vertical-align: middle;\n",
       "    }\n",
       "\n",
       "    .dataframe tbody tr th {\n",
       "        vertical-align: top;\n",
       "    }\n",
       "\n",
       "    .dataframe thead th {\n",
       "        text-align: right;\n",
       "    }\n",
       "</style>\n",
       "<table border=\"1\" class=\"dataframe\">\n",
       "  <thead>\n",
       "    <tr style=\"text-align: right;\">\n",
       "      <th></th>\n",
       "      <th>ITEMNO</th>\n",
       "      <th>DESC1</th>\n",
       "      <th>DESC2</th>\n",
       "      <th>SEARCHTEXT</th>\n",
       "      <th>STOCKINGTYPE</th>\n",
       "      <th>TYPECONVERSION</th>\n",
       "      <th>ITEMCONVERTI</th>\n",
       "      <th>DESC1_1</th>\n",
       "      <th>DESC2_1</th>\n",
       "      <th>SEARCHTEXT_1</th>\n",
       "      <th>STOCKINGTYPE_1</th>\n",
       "    </tr>\n",
       "  </thead>\n",
       "  <tbody>\n",
       "    <tr>\n",
       "      <th>0</th>\n",
       "      <td>24101227</td>\n",
       "      <td>SCREW RD.HD.PHIL.SOC.DRIVE</td>\n",
       "      <td>M4-0.70 X 12MM</td>\n",
       "      <td>ZINC PLATED</td>\n",
       "      <td>P</td>\n",
       "      <td>5</td>\n",
       "      <td>24101227</td>\n",
       "      <td>SCREW RD.HD.PHIL.SOC.DRIVE</td>\n",
       "      <td>M4-0.70 X 12MM</td>\n",
       "      <td>ZINC PLATED</td>\n",
       "      <td>P</td>\n",
       "    </tr>\n",
       "    <tr>\n",
       "      <th>1</th>\n",
       "      <td>24101227</td>\n",
       "      <td>SCREW RD.HD.PHIL.SOC.DRIVE</td>\n",
       "      <td>M4-0.70 X 12MM</td>\n",
       "      <td>ZINC PLATED</td>\n",
       "      <td>P</td>\n",
       "      <td>6</td>\n",
       "      <td>24101227</td>\n",
       "      <td>SCREW RD.HD.PHIL.SOC.DRIVE</td>\n",
       "      <td>M4-0.70 X 12MM</td>\n",
       "      <td>ZINC PLATED</td>\n",
       "      <td>P</td>\n",
       "    </tr>\n",
       "    <tr>\n",
       "      <th>2</th>\n",
       "      <td>24101008</td>\n",
       "      <td>HEX.SOC.FH.CAP SCREW</td>\n",
       "      <td>5/16-18UNC X 1.250\"</td>\n",
       "      <td>ZINC PLATED [A574]</td>\n",
       "      <td>B</td>\n",
       "      <td>1</td>\n",
       "      <td>24101008</td>\n",
       "      <td>HEX.SOC.FH.CAP SCREW</td>\n",
       "      <td>5/16-18UNC X 1.250\"</td>\n",
       "      <td>ZINC PLATED [A574]</td>\n",
       "      <td>B</td>\n",
       "    </tr>\n",
       "    <tr>\n",
       "      <th>3</th>\n",
       "      <td>24101008</td>\n",
       "      <td>HEX.SOC.FH.CAP SCREW</td>\n",
       "      <td>5/16-18UNC X 1.250\"</td>\n",
       "      <td>ZINC PLATED [A574]</td>\n",
       "      <td>B</td>\n",
       "      <td>2</td>\n",
       "      <td>107233</td>\n",
       "      <td>HEX.SOC.FH.CAP SCREW</td>\n",
       "      <td>M8-1.25 X 30MM</td>\n",
       "      <td>ZINC PLATED [CL8.8]</td>\n",
       "      <td>P</td>\n",
       "    </tr>\n",
       "    <tr>\n",
       "      <th>4</th>\n",
       "      <td>24101008</td>\n",
       "      <td>HEX.SOC.FH.CAP SCREW</td>\n",
       "      <td>5/16-18UNC X 1.250\"</td>\n",
       "      <td>ZINC PLATED [A574]</td>\n",
       "      <td>B</td>\n",
       "      <td>3</td>\n",
       "      <td>117616</td>\n",
       "      <td>HEX.SOC.FH.CAP SCREW</td>\n",
       "      <td>5/16-18UNC X 1.250\"</td>\n",
       "      <td>[SS.304]</td>\n",
       "      <td>P</td>\n",
       "    </tr>\n",
       "  </tbody>\n",
       "</table>\n",
       "</div>"
      ],
      "text/plain": [
       "                      ITEMNO                           DESC1  \\\n",
       "0  24101227                   SCREW RD.HD.PHIL.SOC.DRIVE       \n",
       "1  24101227                   SCREW RD.HD.PHIL.SOC.DRIVE       \n",
       "2  24101008                   HEX.SOC.FH.CAP SCREW             \n",
       "3  24101008                   HEX.SOC.FH.CAP SCREW             \n",
       "4  24101008                   HEX.SOC.FH.CAP SCREW             \n",
       "\n",
       "                            DESC2                      SEARCHTEXT  \\\n",
       "0  M4-0.70 X 12MM                  ZINC PLATED                      \n",
       "1  M4-0.70 X 12MM                  ZINC PLATED                      \n",
       "2  5/16-18UNC X 1.250\"             ZINC PLATED [A574]               \n",
       "3  5/16-18UNC X 1.250\"             ZINC PLATED [A574]               \n",
       "4  5/16-18UNC X 1.250\"             ZINC PLATED [A574]               \n",
       "\n",
       "  STOCKINGTYPE  TYPECONVERSION               ITEMCONVERTI  \\\n",
       "0            P               5  24101227                    \n",
       "1            P               6  24101227                    \n",
       "2            B               1  24101008                    \n",
       "3            B               2  107233                      \n",
       "4            B               3  117616                      \n",
       "\n",
       "                          DESC1_1                         DESC2_1  \\\n",
       "0  SCREW RD.HD.PHIL.SOC.DRIVE      M4-0.70 X 12MM                   \n",
       "1  SCREW RD.HD.PHIL.SOC.DRIVE      M4-0.70 X 12MM                   \n",
       "2  HEX.SOC.FH.CAP SCREW            5/16-18UNC X 1.250\"              \n",
       "3  HEX.SOC.FH.CAP SCREW            M8-1.25 X 30MM                   \n",
       "4  HEX.SOC.FH.CAP SCREW            5/16-18UNC X 1.250\"              \n",
       "\n",
       "                     SEARCHTEXT_1 STOCKINGTYPE_1  \n",
       "0  ZINC PLATED                                 P  \n",
       "1  ZINC PLATED                                 P  \n",
       "2  ZINC PLATED [A574]                          B  \n",
       "3  ZINC PLATED [CL8.8]                         P  \n",
       "4  [SS.304]                                    P  "
      ]
     },
     "execution_count": 26,
     "metadata": {},
     "output_type": "execute_result"
    }
   ],
   "source": [
    "fasteners.head()"
   ]
  },
  {
   "cell_type": "code",
   "execution_count": 27,
   "metadata": {},
   "outputs": [],
   "source": [
    "fasteners = fasteners[~(fasteners.ITEMNO == fasteners.ITEMCONVERTI)]"
   ]
  },
  {
   "cell_type": "code",
   "execution_count": 28,
   "metadata": {},
   "outputs": [
    {
     "data": {
      "text/plain": [
       "4042"
      ]
     },
     "execution_count": 28,
     "metadata": {},
     "output_type": "execute_result"
    }
   ],
   "source": [
    "len(fasteners)"
   ]
  },
  {
   "cell_type": "code",
   "execution_count": 40,
   "metadata": {},
   "outputs": [],
   "source": [
    "fasteners = fasteners[~(fasteners.DESC2.str.contains(pat='MM|M\\d{1,2}', regex=True))]"
   ]
  },
  {
   "cell_type": "code",
   "execution_count": 42,
   "metadata": {},
   "outputs": [
    {
     "data": {
      "text/plain": [
       "2328"
      ]
     },
     "execution_count": 42,
     "metadata": {},
     "output_type": "execute_result"
    }
   ],
   "source": [
    "len(fasteners)"
   ]
  },
  {
   "cell_type": "code",
   "execution_count": 59,
   "metadata": {},
   "outputs": [],
   "source": [
    "fasteners = fasteners[fasteners.TYPECONVERSION != 5]\n",
    "fasteners = fasteners[fasteners.TYPECONVERSION != 3]"
   ]
  },
  {
   "cell_type": "markdown",
   "metadata": {},
   "source": []
  },
  {
   "cell_type": "code",
   "execution_count": 62,
   "metadata": {},
   "outputs": [
    {
     "data": {
      "text/plain": [
       "1843"
      ]
     },
     "execution_count": 62,
     "metadata": {},
     "output_type": "execute_result"
    }
   ],
   "source": [
    "len(fasteners)"
   ]
  },
  {
   "cell_type": "code",
   "execution_count": 63,
   "metadata": {},
   "outputs": [],
   "source": [
    "#fasteners.to_csv('fasteners_1843.csv')"
   ]
  }
 ],
 "metadata": {
  "kernelspec": {
   "display_name": "Python 3",
   "language": "python",
   "name": "python3"
  },
  "language_info": {
   "codemirror_mode": {
    "name": "ipython",
    "version": 3
   },
   "file_extension": ".py",
   "mimetype": "text/x-python",
   "name": "python",
   "nbconvert_exporter": "python",
   "pygments_lexer": "ipython3",
   "version": "3.7.3"
  }
 },
 "nbformat": 4,
 "nbformat_minor": 2
}
