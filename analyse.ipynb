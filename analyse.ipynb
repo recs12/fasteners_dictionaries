{
 "cells": [
  {
   "cell_type": "code",
   "execution_count": 24,
   "metadata": {},
   "outputs": [],
   "source": [
    "import pandas as pd"
   ]
  },
  {
   "cell_type": "code",
   "execution_count": 25,
   "metadata": {},
   "outputs": [],
   "source": [
    "fasteners = pd.read_excel('exportBoulonnerie.xlsx')"
   ]
  },
  {
   "cell_type": "code",
   "execution_count": 26,
   "metadata": {},
   "outputs": [
    {
     "data": {
      "text/plain": [
       "16764"
      ]
     },
     "execution_count": 26,
     "metadata": {},
     "output_type": "execute_result"
    }
   ],
   "source": [
    "len(fasteners)"
   ]
  },
  {
   "cell_type": "markdown",
   "metadata": {},
   "source": [
    "strategy:\n",
    "     remove stocking O   \n",
    "     removing stocking type\n",
    "     add column material type\n",
    "     add column metric/imperial type\n",
    "     remove line that refer to same jde number"
   ]
  },
  {
   "cell_type": "code",
   "execution_count": 27,
   "metadata": {},
   "outputs": [],
   "source": [
    "fasteners = fasteners[~(fasteners.STOCKINGTYPE=='O')]"
   ]
  },
  {
   "cell_type": "code",
   "execution_count": 28,
   "metadata": {},
   "outputs": [
    {
     "data": {
      "text/plain": [
       "16110"
      ]
     },
     "execution_count": 28,
     "metadata": {},
     "output_type": "execute_result"
    }
   ],
   "source": [
    "len(fasteners)"
   ]
  },
  {
   "cell_type": "code",
   "execution_count": 29,
   "metadata": {},
   "outputs": [
    {
     "data": {
      "text/html": [
       "<div>\n",
       "<style scoped>\n",
       "    .dataframe tbody tr th:only-of-type {\n",
       "        vertical-align: middle;\n",
       "    }\n",
       "\n",
       "    .dataframe tbody tr th {\n",
       "        vertical-align: top;\n",
       "    }\n",
       "\n",
       "    .dataframe thead th {\n",
       "        text-align: right;\n",
       "    }\n",
       "</style>\n",
       "<table border=\"1\" class=\"dataframe\">\n",
       "  <thead>\n",
       "    <tr style=\"text-align: right;\">\n",
       "      <th></th>\n",
       "      <th>ITEMNO</th>\n",
       "      <th>DESC1</th>\n",
       "      <th>DESC2</th>\n",
       "      <th>SEARCHTEXT</th>\n",
       "      <th>STOCKINGTYPE</th>\n",
       "      <th>TYPECONVERSION</th>\n",
       "      <th>ITEMCONVERTI</th>\n",
       "      <th>DESC1_1</th>\n",
       "      <th>DESC2_1</th>\n",
       "      <th>SEARCHTEXT_1</th>\n",
       "      <th>STOCKINGTYPE_1</th>\n",
       "    </tr>\n",
       "  </thead>\n",
       "  <tbody>\n",
       "    <tr>\n",
       "      <th>0</th>\n",
       "      <td>24101227</td>\n",
       "      <td>SCREW RD.HD.PHIL.SOC.DRIVE</td>\n",
       "      <td>M4-0.70 X 12MM</td>\n",
       "      <td>ZINC PLATED</td>\n",
       "      <td>P</td>\n",
       "      <td>5</td>\n",
       "      <td>24101227</td>\n",
       "      <td>SCREW RD.HD.PHIL.SOC.DRIVE</td>\n",
       "      <td>M4-0.70 X 12MM</td>\n",
       "      <td>ZINC PLATED</td>\n",
       "      <td>P</td>\n",
       "    </tr>\n",
       "    <tr>\n",
       "      <th>1</th>\n",
       "      <td>24101227</td>\n",
       "      <td>SCREW RD.HD.PHIL.SOC.DRIVE</td>\n",
       "      <td>M4-0.70 X 12MM</td>\n",
       "      <td>ZINC PLATED</td>\n",
       "      <td>P</td>\n",
       "      <td>6</td>\n",
       "      <td>24101227</td>\n",
       "      <td>SCREW RD.HD.PHIL.SOC.DRIVE</td>\n",
       "      <td>M4-0.70 X 12MM</td>\n",
       "      <td>ZINC PLATED</td>\n",
       "      <td>P</td>\n",
       "    </tr>\n",
       "    <tr>\n",
       "      <th>2</th>\n",
       "      <td>24101008</td>\n",
       "      <td>HEX.SOC.FH.CAP SCREW</td>\n",
       "      <td>5/16-18UNC X 1.250\"</td>\n",
       "      <td>ZINC PLATED [A574]</td>\n",
       "      <td>B</td>\n",
       "      <td>1</td>\n",
       "      <td>24101008</td>\n",
       "      <td>HEX.SOC.FH.CAP SCREW</td>\n",
       "      <td>5/16-18UNC X 1.250\"</td>\n",
       "      <td>ZINC PLATED [A574]</td>\n",
       "      <td>B</td>\n",
       "    </tr>\n",
       "    <tr>\n",
       "      <th>3</th>\n",
       "      <td>24101008</td>\n",
       "      <td>HEX.SOC.FH.CAP SCREW</td>\n",
       "      <td>5/16-18UNC X 1.250\"</td>\n",
       "      <td>ZINC PLATED [A574]</td>\n",
       "      <td>B</td>\n",
       "      <td>2</td>\n",
       "      <td>107233</td>\n",
       "      <td>HEX.SOC.FH.CAP SCREW</td>\n",
       "      <td>M8-1.25 X 30MM</td>\n",
       "      <td>ZINC PLATED [CL8.8]</td>\n",
       "      <td>P</td>\n",
       "    </tr>\n",
       "    <tr>\n",
       "      <th>4</th>\n",
       "      <td>24101008</td>\n",
       "      <td>HEX.SOC.FH.CAP SCREW</td>\n",
       "      <td>5/16-18UNC X 1.250\"</td>\n",
       "      <td>ZINC PLATED [A574]</td>\n",
       "      <td>B</td>\n",
       "      <td>3</td>\n",
       "      <td>117616</td>\n",
       "      <td>HEX.SOC.FH.CAP SCREW</td>\n",
       "      <td>5/16-18UNC X 1.250\"</td>\n",
       "      <td>[SS.304]</td>\n",
       "      <td>P</td>\n",
       "    </tr>\n",
       "  </tbody>\n",
       "</table>\n",
       "</div>"
      ],
      "text/plain": [
       "                      ITEMNO                           DESC1  \\\n",
       "0  24101227                   SCREW RD.HD.PHIL.SOC.DRIVE       \n",
       "1  24101227                   SCREW RD.HD.PHIL.SOC.DRIVE       \n",
       "2  24101008                   HEX.SOC.FH.CAP SCREW             \n",
       "3  24101008                   HEX.SOC.FH.CAP SCREW             \n",
       "4  24101008                   HEX.SOC.FH.CAP SCREW             \n",
       "\n",
       "                            DESC2                      SEARCHTEXT  \\\n",
       "0  M4-0.70 X 12MM                  ZINC PLATED                      \n",
       "1  M4-0.70 X 12MM                  ZINC PLATED                      \n",
       "2  5/16-18UNC X 1.250\"             ZINC PLATED [A574]               \n",
       "3  5/16-18UNC X 1.250\"             ZINC PLATED [A574]               \n",
       "4  5/16-18UNC X 1.250\"             ZINC PLATED [A574]               \n",
       "\n",
       "  STOCKINGTYPE  TYPECONVERSION               ITEMCONVERTI  \\\n",
       "0            P               5  24101227                    \n",
       "1            P               6  24101227                    \n",
       "2            B               1  24101008                    \n",
       "3            B               2  107233                      \n",
       "4            B               3  117616                      \n",
       "\n",
       "                          DESC1_1                         DESC2_1  \\\n",
       "0  SCREW RD.HD.PHIL.SOC.DRIVE      M4-0.70 X 12MM                   \n",
       "1  SCREW RD.HD.PHIL.SOC.DRIVE      M4-0.70 X 12MM                   \n",
       "2  HEX.SOC.FH.CAP SCREW            5/16-18UNC X 1.250\"              \n",
       "3  HEX.SOC.FH.CAP SCREW            M8-1.25 X 30MM                   \n",
       "4  HEX.SOC.FH.CAP SCREW            5/16-18UNC X 1.250\"              \n",
       "\n",
       "                     SEARCHTEXT_1 STOCKINGTYPE_1  \n",
       "0  ZINC PLATED                                 P  \n",
       "1  ZINC PLATED                                 P  \n",
       "2  ZINC PLATED [A574]                          B  \n",
       "3  ZINC PLATED [CL8.8]                         P  \n",
       "4  [SS.304]                                    P  "
      ]
     },
     "execution_count": 29,
     "metadata": {},
     "output_type": "execute_result"
    }
   ],
   "source": [
    "fasteners.head()"
   ]
  },
  {
   "cell_type": "code",
   "execution_count": 30,
   "metadata": {},
   "outputs": [],
   "source": [
    "fasteners = fasteners[~(fasteners.ITEMNO == fasteners.ITEMCONVERTI)]"
   ]
  },
  {
   "cell_type": "code",
   "execution_count": 31,
   "metadata": {},
   "outputs": [
    {
     "data": {
      "text/plain": [
       "4042"
      ]
     },
     "execution_count": 31,
     "metadata": {},
     "output_type": "execute_result"
    }
   ],
   "source": [
    "len(fasteners)"
   ]
  },
  {
   "cell_type": "code",
   "execution_count": 32,
   "metadata": {},
   "outputs": [],
   "source": [
    "fasteners = fasteners[~(fasteners.DESC2.str.contains(pat='MM|M\\d{1,2}', regex=True))]"
   ]
  },
  {
   "cell_type": "code",
   "execution_count": 33,
   "metadata": {},
   "outputs": [
    {
     "data": {
      "text/plain": [
       "2328"
      ]
     },
     "execution_count": 33,
     "metadata": {},
     "output_type": "execute_result"
    }
   ],
   "source": [
    "len(fasteners)"
   ]
  },
  {
   "cell_type": "code",
   "execution_count": 34,
   "metadata": {},
   "outputs": [],
   "source": [
    "fasteners = fasteners[fasteners.TYPECONVERSION != 5]\n",
    "fasteners = fasteners[fasteners.TYPECONVERSION != 3]"
   ]
  },
  {
   "cell_type": "markdown",
   "metadata": {},
   "source": []
  },
  {
   "cell_type": "code",
   "execution_count": 35,
   "metadata": {},
   "outputs": [
    {
     "data": {
      "text/plain": [
       "1843"
      ]
     },
     "execution_count": 35,
     "metadata": {},
     "output_type": "execute_result"
    }
   ],
   "source": [
    "len(fasteners)"
   ]
  },
  {
   "cell_type": "code",
   "execution_count": 36,
   "metadata": {},
   "outputs": [],
   "source": [
    "#strip text\n",
    "fasteners['SEARCHTEXT'] = fasteners.SEARCHTEXT.str.strip()\n",
    "fasteners['SEARCHTEXT_1'] = fasteners.SEARCHTEXT.str.strip()"
   ]
  },
  {
   "cell_type": "code",
   "execution_count": null,
   "metadata": {},
   "outputs": [],
   "source": []
  },
  {
   "cell_type": "code",
   "execution_count": 37,
   "metadata": {},
   "outputs": [],
   "source": [
    "fasteners['MATERIAL_1'] = fasteners['SEARCHTEXT'].map(\n",
    "    {\n",
    "    '[SS.304]':'SS304',\n",
    "     'ZINC PLATED':'ZINC',\n",
    "     'ZINC PLATED [GR.5]':'ZINC_GR.5',\n",
    "     '[SS.316]':'SS316',\n",
    "    }\n",
    ")"
   ]
  },
  {
   "cell_type": "code",
   "execution_count": 38,
   "metadata": {},
   "outputs": [],
   "source": [
    "fasteners['MATERIAL_2'] = fasteners['SEARCHTEXT_1'].map(\n",
    "    {\n",
    "    '[SS.304]':'SS304',\n",
    "     'ZINC PLATED':'ZINC',\n",
    "     'ZINC PLATED [CL8.8]':'ZINC_CL8.8',\n",
    "     '[SS.316]':'SS316',\n",
    "    }\n",
    ")"
   ]
  },
  {
   "cell_type": "code",
   "execution_count": 39,
   "metadata": {},
   "outputs": [],
   "source": [
    "fasteners = fasteners.dropna(subset=['MATERIAL_1','MATERIAL_2'])"
   ]
  },
  {
   "cell_type": "code",
   "execution_count": 40,
   "metadata": {},
   "outputs": [
    {
     "data": {
      "text/plain": [
       "983"
      ]
     },
     "execution_count": 40,
     "metadata": {},
     "output_type": "execute_result"
    }
   ],
   "source": [
    "len(fasteners)"
   ]
  },
  {
   "cell_type": "code",
   "execution_count": 41,
   "metadata": {},
   "outputs": [],
   "source": [
    "fasteners = fasteners[fasteners.MATERIAL_1 == fasteners.MATERIAL_2]"
   ]
  },
  {
   "cell_type": "code",
   "execution_count": 52,
   "metadata": {},
   "outputs": [],
   "source": [
    "jde = pd.read_csv('temporary_jde.csv')"
   ]
  },
  {
   "cell_type": "code",
   "execution_count": 54,
   "metadata": {},
   "outputs": [
    {
     "data": {
      "text/html": [
       "<div>\n",
       "<style scoped>\n",
       "    .dataframe tbody tr th:only-of-type {\n",
       "        vertical-align: middle;\n",
       "    }\n",
       "\n",
       "    .dataframe tbody tr th {\n",
       "        vertical-align: top;\n",
       "    }\n",
       "\n",
       "    .dataframe thead th {\n",
       "        text-align: right;\n",
       "    }\n",
       "</style>\n",
       "<table border=\"1\" class=\"dataframe\">\n",
       "  <thead>\n",
       "    <tr style=\"text-align: right;\">\n",
       "      <th></th>\n",
       "      <th>business_unit</th>\n",
       "      <th>item_number</th>\n",
       "      <th>description_1</th>\n",
       "      <th>description_2</th>\n",
       "      <th>search_text</th>\n",
       "      <th>drawing_number</th>\n",
       "      <th>unit_of_measure</th>\n",
       "      <th>stocking_type</th>\n",
       "      <th>comm_class</th>\n",
       "      <th>supplier</th>\n",
       "      <th>item_pool</th>\n",
       "      <th>description_prp1</th>\n",
       "      <th>description_prp2</th>\n",
       "      <th>unit_cost</th>\n",
       "    </tr>\n",
       "  </thead>\n",
       "  <tbody>\n",
       "    <tr>\n",
       "      <th>0</th>\n",
       "      <td>101</td>\n",
       "      <td>217463</td>\n",
       "      <td>0.50 CRS ROD MOD 10.5 LG</td>\n",
       "      <td>NaN</td>\n",
       "      <td>5MTPS00510</td>\n",
       "      <td>NaN</td>\n",
       "      <td>EA</td>\n",
       "      <td>P</td>\n",
       "      <td>80</td>\n",
       "      <td>WULFTEC INTERNATIONAL INC. (CA</td>\n",
       "      <td>NaN</td>\n",
       "      <td>Mechanical Component</td>\n",
       "      <td>Gaz &amp; Rod</td>\n",
       "      <td>60.496</td>\n",
       "    </tr>\n",
       "    <tr>\n",
       "      <th>1</th>\n",
       "      <td>101</td>\n",
       "      <td>322832</td>\n",
       "      <td>1 3/16\" SHAFT (DRIVE)</td>\n",
       "      <td>NaN</td>\n",
       "      <td>#111</td>\n",
       "      <td>092316MH</td>\n",
       "      <td>EA</td>\n",
       "      <td>P</td>\n",
       "      <td>SER</td>\n",
       "      <td>FLOW-TURN INC (USD)</td>\n",
       "      <td>NaN</td>\n",
       "      <td>Service Parts</td>\n",
       "      <td>SPARE PARTS 4 bought component</td>\n",
       "      <td>148.200</td>\n",
       "    </tr>\n",
       "    <tr>\n",
       "      <th>2</th>\n",
       "      <td>101</td>\n",
       "      <td>340119</td>\n",
       "      <td>1 3/16\" SHAFT (DRIVE) L/I</td>\n",
       "      <td>NaN</td>\n",
       "      <td>#111</td>\n",
       "      <td>NaN</td>\n",
       "      <td>EA</td>\n",
       "      <td>P</td>\n",
       "      <td>SER</td>\n",
       "      <td>FLOW-TURN INC (USD)</td>\n",
       "      <td>NaN</td>\n",
       "      <td>Service Parts</td>\n",
       "      <td>SPARE PARTS 4 bought component</td>\n",
       "      <td>173.490</td>\n",
       "    </tr>\n",
       "    <tr>\n",
       "      <th>3</th>\n",
       "      <td>101</td>\n",
       "      <td>353724</td>\n",
       "      <td>1 3/16\" SHAFT (DRIVE) L/O</td>\n",
       "      <td>NaN</td>\n",
       "      <td>#111-B-34_25-90</td>\n",
       "      <td>NaN</td>\n",
       "      <td>EA</td>\n",
       "      <td>P</td>\n",
       "      <td>80</td>\n",
       "      <td>FLOW-TURN INC (USD)</td>\n",
       "      <td>NaN</td>\n",
       "      <td>Mechanical Component</td>\n",
       "      <td>Conveyor Belt, Pulley &amp; Roller</td>\n",
       "      <td>172.800</td>\n",
       "    </tr>\n",
       "    <tr>\n",
       "      <th>4</th>\n",
       "      <td>101</td>\n",
       "      <td>359788</td>\n",
       "      <td>1 3/16\" SHAFT (DRIVE) L/O</td>\n",
       "      <td>NaN</td>\n",
       "      <td>#111-B-SP-34_25-90-18</td>\n",
       "      <td>NaN</td>\n",
       "      <td>EA</td>\n",
       "      <td>P</td>\n",
       "      <td>80</td>\n",
       "      <td>FLOW-TURN INC (USD)</td>\n",
       "      <td>NaN</td>\n",
       "      <td>Mechanical Component</td>\n",
       "      <td>Conveyor Belt, Pulley &amp; Roller</td>\n",
       "      <td>175.500</td>\n",
       "    </tr>\n",
       "  </tbody>\n",
       "</table>\n",
       "</div>"
      ],
      "text/plain": [
       "   business_unit item_number              description_1 description_2  \\\n",
       "0            101      217463   0.50 CRS ROD MOD 10.5 LG           NaN   \n",
       "1            101      322832      1 3/16\" SHAFT (DRIVE)           NaN   \n",
       "2            101      340119  1 3/16\" SHAFT (DRIVE) L/I           NaN   \n",
       "3            101      353724  1 3/16\" SHAFT (DRIVE) L/O           NaN   \n",
       "4            101      359788  1 3/16\" SHAFT (DRIVE) L/O           NaN   \n",
       "\n",
       "             search_text drawing_number unit_of_measure stocking_type  \\\n",
       "0             5MTPS00510            NaN              EA             P   \n",
       "1                   #111       092316MH              EA             P   \n",
       "2                   #111            NaN              EA             P   \n",
       "3        #111-B-34_25-90            NaN              EA             P   \n",
       "4  #111-B-SP-34_25-90-18            NaN              EA             P   \n",
       "\n",
       "  comm_class                        supplier  item_pool      description_prp1  \\\n",
       "0         80  WULFTEC INTERNATIONAL INC. (CA        NaN  Mechanical Component   \n",
       "1        SER             FLOW-TURN INC (USD)        NaN         Service Parts   \n",
       "2        SER             FLOW-TURN INC (USD)        NaN         Service Parts   \n",
       "3         80             FLOW-TURN INC (USD)        NaN  Mechanical Component   \n",
       "4         80             FLOW-TURN INC (USD)        NaN  Mechanical Component   \n",
       "\n",
       "                 description_prp2  unit_cost  \n",
       "0                       Gaz & Rod     60.496  \n",
       "1  SPARE PARTS 4 bought component    148.200  \n",
       "2  SPARE PARTS 4 bought component    173.490  \n",
       "3  Conveyor Belt, Pulley & Roller    172.800  \n",
       "4  Conveyor Belt, Pulley & Roller    175.500  "
      ]
     },
     "execution_count": 54,
     "metadata": {},
     "output_type": "execute_result"
    }
   ],
   "source": [
    "jde.head()"
   ]
  },
  {
   "cell_type": "code",
   "execution_count": 56,
   "metadata": {},
   "outputs": [],
   "source": [
    "jde = jde[['item_number','search_text']]"
   ]
  },
  {
   "cell_type": "code",
   "execution_count": 60,
   "metadata": {},
   "outputs": [
    {
     "data": {
      "text/html": [
       "<div>\n",
       "<style scoped>\n",
       "    .dataframe tbody tr th:only-of-type {\n",
       "        vertical-align: middle;\n",
       "    }\n",
       "\n",
       "    .dataframe tbody tr th {\n",
       "        vertical-align: top;\n",
       "    }\n",
       "\n",
       "    .dataframe thead th {\n",
       "        text-align: right;\n",
       "    }\n",
       "</style>\n",
       "<table border=\"1\" class=\"dataframe\">\n",
       "  <thead>\n",
       "    <tr style=\"text-align: right;\">\n",
       "      <th></th>\n",
       "      <th>ITEMNO</th>\n",
       "      <th>DESC1</th>\n",
       "      <th>DESC2</th>\n",
       "      <th>SEARCHTEXT</th>\n",
       "      <th>STOCKINGTYPE</th>\n",
       "      <th>TYPECONVERSION</th>\n",
       "      <th>ITEMCONVERTI</th>\n",
       "      <th>DESC1_1</th>\n",
       "      <th>DESC2_1</th>\n",
       "      <th>SEARCHTEXT_1</th>\n",
       "      <th>STOCKINGTYPE_1</th>\n",
       "      <th>MATERIAL_1</th>\n",
       "      <th>MATERIAL_2</th>\n",
       "      <th>search_text</th>\n",
       "    </tr>\n",
       "  </thead>\n",
       "  <tbody>\n",
       "    <tr>\n",
       "      <th>9</th>\n",
       "      <td>24103310</td>\n",
       "      <td>HEX.HD.CAP SCREW</td>\n",
       "      <td>3/4-10UNC X 2.000\"</td>\n",
       "      <td>[SS.304]</td>\n",
       "      <td>P</td>\n",
       "      <td>2</td>\n",
       "      <td>24104018</td>\n",
       "      <td>HEX.HD.CAP SCREW</td>\n",
       "      <td>M20-2.50 X 50MM</td>\n",
       "      <td>[SS.304]</td>\n",
       "      <td>B</td>\n",
       "      <td>SS304</td>\n",
       "      <td>SS304</td>\n",
       "      <td>NaN</td>\n",
       "    </tr>\n",
       "    <tr>\n",
       "      <th>11</th>\n",
       "      <td>24103310</td>\n",
       "      <td>HEX.HD.CAP SCREW</td>\n",
       "      <td>3/4-10UNC X 2.000\"</td>\n",
       "      <td>[SS.304]</td>\n",
       "      <td>P</td>\n",
       "      <td>4</td>\n",
       "      <td>185585</td>\n",
       "      <td>HEX.HD.CAP SCREW</td>\n",
       "      <td>M20-2.50 X 50MM</td>\n",
       "      <td>[SS.304]</td>\n",
       "      <td>B</td>\n",
       "      <td>SS304</td>\n",
       "      <td>SS304</td>\n",
       "      <td>NaN</td>\n",
       "    </tr>\n",
       "    <tr>\n",
       "      <th>13</th>\n",
       "      <td>24103310</td>\n",
       "      <td>HEX.HD.CAP SCREW</td>\n",
       "      <td>3/4-10UNC X 2.000\"</td>\n",
       "      <td>[SS.304]</td>\n",
       "      <td>P</td>\n",
       "      <td>6</td>\n",
       "      <td>158785</td>\n",
       "      <td>HEX.HD.CAP SCREW</td>\n",
       "      <td>M20-2.50 X 50MM</td>\n",
       "      <td>[SS.304]</td>\n",
       "      <td>P</td>\n",
       "      <td>SS304</td>\n",
       "      <td>SS304</td>\n",
       "      <td>NaN</td>\n",
       "    </tr>\n",
       "    <tr>\n",
       "      <th>21</th>\n",
       "      <td>107190</td>\n",
       "      <td>HEX.HD.CAP SCREW</td>\n",
       "      <td>3/4-10UNC X 4.000\"</td>\n",
       "      <td>[SS.304]</td>\n",
       "      <td>P</td>\n",
       "      <td>2</td>\n",
       "      <td>24104656</td>\n",
       "      <td>HEX.HD.CAP SCREW</td>\n",
       "      <td>M20-2.50 X 100MM</td>\n",
       "      <td>[SS.304]</td>\n",
       "      <td>B</td>\n",
       "      <td>SS304</td>\n",
       "      <td>SS304</td>\n",
       "      <td>NaN</td>\n",
       "    </tr>\n",
       "    <tr>\n",
       "      <th>23</th>\n",
       "      <td>107190</td>\n",
       "      <td>HEX.HD.CAP SCREW</td>\n",
       "      <td>3/4-10UNC X 4.000\"</td>\n",
       "      <td>[SS.304]</td>\n",
       "      <td>P</td>\n",
       "      <td>4</td>\n",
       "      <td>185572</td>\n",
       "      <td>HEX.HD.CAP SCREW</td>\n",
       "      <td>M20-2.50 X 100MM</td>\n",
       "      <td>[SS.304]</td>\n",
       "      <td>B</td>\n",
       "      <td>SS304</td>\n",
       "      <td>SS304</td>\n",
       "      <td>NaN</td>\n",
       "    </tr>\n",
       "    <tr>\n",
       "      <th>...</th>\n",
       "      <td>...</td>\n",
       "      <td>...</td>\n",
       "      <td>...</td>\n",
       "      <td>...</td>\n",
       "      <td>...</td>\n",
       "      <td>...</td>\n",
       "      <td>...</td>\n",
       "      <td>...</td>\n",
       "      <td>...</td>\n",
       "      <td>...</td>\n",
       "      <td>...</td>\n",
       "      <td>...</td>\n",
       "      <td>...</td>\n",
       "      <td>...</td>\n",
       "    </tr>\n",
       "    <tr>\n",
       "      <th>16643</th>\n",
       "      <td>24103135</td>\n",
       "      <td>HEX.HD.CAP SCREW</td>\n",
       "      <td>3/8-16UNC X 2.500\"</td>\n",
       "      <td>[SS.304]</td>\n",
       "      <td>P</td>\n",
       "      <td>4</td>\n",
       "      <td>118026</td>\n",
       "      <td>HEX.HD.CAP SCREW</td>\n",
       "      <td>M10-1.50 X 60MM</td>\n",
       "      <td>[SS.304]</td>\n",
       "      <td>P</td>\n",
       "      <td>SS304</td>\n",
       "      <td>SS304</td>\n",
       "      <td>NaN</td>\n",
       "    </tr>\n",
       "    <tr>\n",
       "      <th>16653</th>\n",
       "      <td>24103154</td>\n",
       "      <td>HEX.SOC.BUT.HD.CAP SCREW</td>\n",
       "      <td>#10-24UNC X 0.500\"</td>\n",
       "      <td>[SS.304]</td>\n",
       "      <td>P</td>\n",
       "      <td>2</td>\n",
       "      <td>166693</td>\n",
       "      <td>HEX.SOC.BUT.HD.CAP SCREW</td>\n",
       "      <td>M5-0.80 X 12MM</td>\n",
       "      <td>[SS.304]</td>\n",
       "      <td>B</td>\n",
       "      <td>SS304</td>\n",
       "      <td>SS304</td>\n",
       "      <td>NaN</td>\n",
       "    </tr>\n",
       "    <tr>\n",
       "      <th>16655</th>\n",
       "      <td>24103154</td>\n",
       "      <td>HEX.SOC.BUT.HD.CAP SCREW</td>\n",
       "      <td>#10-24UNC X 0.500\"</td>\n",
       "      <td>[SS.304]</td>\n",
       "      <td>P</td>\n",
       "      <td>4</td>\n",
       "      <td>185662</td>\n",
       "      <td>HEX.SOC.BUT.HD.CAP SCREW</td>\n",
       "      <td>M5-0.80 X 12MM</td>\n",
       "      <td>[SS.304]</td>\n",
       "      <td>B</td>\n",
       "      <td>SS304</td>\n",
       "      <td>SS304</td>\n",
       "      <td>NaN</td>\n",
       "    </tr>\n",
       "    <tr>\n",
       "      <th>16659</th>\n",
       "      <td>24103200</td>\n",
       "      <td>HEX.HD.CAP SCREW</td>\n",
       "      <td>5/16-18UNC X 1.000\"</td>\n",
       "      <td>[SS.304]</td>\n",
       "      <td>P</td>\n",
       "      <td>2</td>\n",
       "      <td>24101200</td>\n",
       "      <td>HEX.HD.CAP SCREW</td>\n",
       "      <td>M8-1.25 X 25MM</td>\n",
       "      <td>[SS.304]</td>\n",
       "      <td>B</td>\n",
       "      <td>SS304</td>\n",
       "      <td>SS304</td>\n",
       "      <td>NaN</td>\n",
       "    </tr>\n",
       "    <tr>\n",
       "      <th>16661</th>\n",
       "      <td>24103200</td>\n",
       "      <td>HEX.HD.CAP SCREW</td>\n",
       "      <td>5/16-18UNC X 1.000\"</td>\n",
       "      <td>[SS.304]</td>\n",
       "      <td>P</td>\n",
       "      <td>4</td>\n",
       "      <td>24104773</td>\n",
       "      <td>HEX.HD.CAP SCREW</td>\n",
       "      <td>M8-1.25 X 25MM</td>\n",
       "      <td>[SS.304]</td>\n",
       "      <td>P</td>\n",
       "      <td>SS304</td>\n",
       "      <td>SS304</td>\n",
       "      <td>NaN</td>\n",
       "    </tr>\n",
       "  </tbody>\n",
       "</table>\n",
       "<p>983 rows × 14 columns</p>\n",
       "</div>"
      ],
      "text/plain": [
       "                          ITEMNO                           DESC1  \\\n",
       "9      24103310                   HEX.HD.CAP SCREW                 \n",
       "11     24103310                   HEX.HD.CAP SCREW                 \n",
       "13     24103310                   HEX.HD.CAP SCREW                 \n",
       "21     107190                     HEX.HD.CAP SCREW                 \n",
       "23     107190                     HEX.HD.CAP SCREW                 \n",
       "...                          ...                             ...   \n",
       "16643  24103135                   HEX.HD.CAP SCREW                 \n",
       "16653  24103154                   HEX.SOC.BUT.HD.CAP SCREW         \n",
       "16655  24103154                   HEX.SOC.BUT.HD.CAP SCREW         \n",
       "16659  24103200                   HEX.HD.CAP SCREW                 \n",
       "16661  24103200                   HEX.HD.CAP SCREW                 \n",
       "\n",
       "                                DESC2 SEARCHTEXT STOCKINGTYPE  TYPECONVERSION  \\\n",
       "9      3/4-10UNC X 2.000\"               [SS.304]            P               2   \n",
       "11     3/4-10UNC X 2.000\"               [SS.304]            P               4   \n",
       "13     3/4-10UNC X 2.000\"               [SS.304]            P               6   \n",
       "21     3/4-10UNC X 4.000\"               [SS.304]            P               2   \n",
       "23     3/4-10UNC X 4.000\"               [SS.304]            P               4   \n",
       "...                               ...        ...          ...             ...   \n",
       "16643  3/8-16UNC X 2.500\"               [SS.304]            P               4   \n",
       "16653  #10-24UNC X 0.500\"               [SS.304]            P               2   \n",
       "16655  #10-24UNC X 0.500\"               [SS.304]            P               4   \n",
       "16659  5/16-18UNC X 1.000\"              [SS.304]            P               2   \n",
       "16661  5/16-18UNC X 1.000\"              [SS.304]            P               4   \n",
       "\n",
       "                    ITEMCONVERTI                         DESC1_1  \\\n",
       "9      24104018                   HEX.HD.CAP SCREW                 \n",
       "11     185585                     HEX.HD.CAP SCREW                 \n",
       "13     158785                     HEX.HD.CAP SCREW                 \n",
       "21     24104656                   HEX.HD.CAP SCREW                 \n",
       "23     185572                     HEX.HD.CAP SCREW                 \n",
       "...                          ...                             ...   \n",
       "16643  118026                     HEX.HD.CAP SCREW                 \n",
       "16653  166693                     HEX.SOC.BUT.HD.CAP SCREW         \n",
       "16655  185662                     HEX.SOC.BUT.HD.CAP SCREW         \n",
       "16659  24101200                   HEX.HD.CAP SCREW                 \n",
       "16661  24104773                   HEX.HD.CAP SCREW                 \n",
       "\n",
       "                              DESC2_1 SEARCHTEXT_1 STOCKINGTYPE_1 MATERIAL_1  \\\n",
       "9      M20-2.50 X 50MM                    [SS.304]              B      SS304   \n",
       "11     M20-2.50 X 50MM                    [SS.304]              B      SS304   \n",
       "13     M20-2.50 X 50MM                    [SS.304]              P      SS304   \n",
       "21     M20-2.50 X 100MM                   [SS.304]              B      SS304   \n",
       "23     M20-2.50 X 100MM                   [SS.304]              B      SS304   \n",
       "...                               ...          ...            ...        ...   \n",
       "16643  M10-1.50 X 60MM                    [SS.304]              P      SS304   \n",
       "16653  M5-0.80 X 12MM                     [SS.304]              B      SS304   \n",
       "16655  M5-0.80 X 12MM                     [SS.304]              B      SS304   \n",
       "16659  M8-1.25 X 25MM                     [SS.304]              B      SS304   \n",
       "16661  M8-1.25 X 25MM                     [SS.304]              P      SS304   \n",
       "\n",
       "      MATERIAL_2 search_text  \n",
       "9          SS304         NaN  \n",
       "11         SS304         NaN  \n",
       "13         SS304         NaN  \n",
       "21         SS304         NaN  \n",
       "23         SS304         NaN  \n",
       "...          ...         ...  \n",
       "16643      SS304         NaN  \n",
       "16653      SS304         NaN  \n",
       "16655      SS304         NaN  \n",
       "16659      SS304         NaN  \n",
       "16661      SS304         NaN  \n",
       "\n",
       "[983 rows x 14 columns]"
      ]
     },
     "execution_count": 60,
     "metadata": {},
     "output_type": "execute_result"
    }
   ],
   "source": [
    "fasteners.join(jde.set_index('item_number'), on='ITEMNO' )\n",
    "# fasteners.join(jde.set_index('item_number'), on='ITEMCONVERTI')"
   ]
  },
  {
   "cell_type": "code",
   "execution_count": 42,
   "metadata": {},
   "outputs": [],
   "source": [
    "# fasteners.to_csv('fasteners983.csv')"
   ]
  },
  {
   "cell_type": "markdown",
   "metadata": {},
   "source": [
    "items = fasteners[['ITEMNO','ITEMCONVERTI']]"
   ]
  },
  {
   "cell_type": "markdown",
   "metadata": {},
   "source": [
    "items.ITEMNO = items.ITEMNO.str.strip()\n",
    "items.ITEMCONVERTI = items.ITEMCONVERTI.str.strip()"
   ]
  },
  {
   "cell_type": "markdown",
   "metadata": {},
   "source": [
    "dictionnary = items.set_index('ITEMNO').to_dict()"
   ]
  },
  {
   "cell_type": "markdown",
   "metadata": {},
   "source": [
    "dictionnary['ITEMCONVERTI']"
   ]
  }
 ],
 "metadata": {
  "kernelspec": {
   "display_name": "Python 3",
   "language": "python",
   "name": "python3"
  },
  "language_info": {
   "codemirror_mode": {
    "name": "ipython",
    "version": 3
   },
   "file_extension": ".py",
   "mimetype": "text/x-python",
   "name": "python",
   "nbconvert_exporter": "python",
   "pygments_lexer": "ipython3",
   "version": "3.7.3"
  }
 },
 "nbformat": 4,
 "nbformat_minor": 2
}
