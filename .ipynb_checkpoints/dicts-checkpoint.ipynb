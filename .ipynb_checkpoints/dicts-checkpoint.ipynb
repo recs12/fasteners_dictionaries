{
 "cells": [
  {
   "cell_type": "code",
   "execution_count": 35,
   "metadata": {},
   "outputs": [],
   "source": [
    "import pandas as pd"
   ]
  },
  {
   "cell_type": "code",
   "execution_count": 38,
   "metadata": {},
   "outputs": [],
   "source": [
    "def create_dict_from(filename):\n",
    "    fasteners = pd.read_excel(filename)\n",
    "    fasteners = fasteners[['Filename','Document Number']]\n",
    "    fasteners = fasteners.set_index('Filename')\n",
    "    fasteners = fasteners.to_dict('dict')['Document Number']\n",
    "    with open('new.txt', 'a') as f:\n",
    "        f.write(\"{\\n\")\n",
    "        for i,j in fasteners.items():\n",
    "            f.write(f\"\\\"{i}\\\": {j},\\n\")\n",
    "        f.write(\"}\")"
   ]
  },
  {
   "cell_type": "code",
   "execution_count": 39,
   "metadata": {},
   "outputs": [],
   "source": [
    "create_dict_from('nuts.xlsx')"
   ]
  }
 ],
 "metadata": {
  "kernelspec": {
   "display_name": "Python 3",
   "language": "python",
   "name": "python3"
  },
  "language_info": {
   "codemirror_mode": {
    "name": "ipython",
    "version": 3
   },
   "file_extension": ".py",
   "mimetype": "text/x-python",
   "name": "python",
   "nbconvert_exporter": "python",
   "pygments_lexer": "ipython3",
   "version": "3.7.3"
  }
 },
 "nbformat": 4,
 "nbformat_minor": 2
}
