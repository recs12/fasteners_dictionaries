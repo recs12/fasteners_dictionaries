{
 "cells": [
  {
   "cell_type": "code",
   "execution_count": 12,
   "metadata": {},
   "outputs": [
    {
     "name": "stdout",
     "output_type": "stream",
     "text": [
      " Volume in drive C has no label.\n",
      " Volume Serial Number is 62A3-1DA8\n",
      "\n",
      " Directory of C:\\Users\\Slimane\\Desktop\\fasteners_dictionaries\n",
      "\n",
      "04/02/2020  06:48    <DIR>          .\n",
      "04/02/2020  06:48    <DIR>          ..\n",
      "04/02/2020  06:34                98 .~lock.nuts.xlsx#\n",
      "04/02/2020  06:34                98 .~lock.screws.xlsx#\n",
      "04/02/2020  06:34    <DIR>          .ipynb_checkpoints\n",
      "04/02/2020  06:34                 0 __init__.py\n",
      "04/02/2020  06:34    <DIR>          __pycache__\n",
      "04/02/2020  06:34           817,999 exportBoulonnerie.xlsx\n",
      "04/02/2020  06:39    <DIR>          inventories\n",
      "04/02/2020  06:34         2,434,550 nuts.xlsx\n",
      "04/02/2020  06:34         2,432,958 screws.xlsx\n",
      "04/02/2020  06:34             1,658 STEP-1 Generate screws - nuts - washers.ipynb\n",
      "04/02/2020  06:34            16,444 STEP-2 Get imperial-metric mapping.ipynb\n",
      "04/02/2020  06:48             3,568 STEP-3 Item_number - File_name.ipynb\n",
      "04/02/2020  06:34        14,145,592 temporary_jde.csv\n",
      "04/02/2020  06:34         2,432,963 washers.xlsx\n",
      "              11 File(s)     22,285,928 bytes\n",
      "               5 Dir(s)  202,581,889,024 bytes free\n"
     ]
    }
   ],
   "source": [
    "ls"
   ]
  },
  {
   "cell_type": "code",
   "execution_count": 13,
   "metadata": {},
   "outputs": [],
   "source": [
    "from inventories.screws import INVENTORY_SCREWS \n",
    "from inventories.nuts import INVENTORY_NUTS\n",
    "from inventories.washers import INVENTORY_WASHERS"
   ]
  },
  {
   "cell_type": "code",
   "execution_count": 14,
   "metadata": {},
   "outputs": [],
   "source": [
    "total_inv = {**INVENTORY_SCREWS, **INVENTORY_NUTS, **INVENTORY_WASHERS}"
   ]
  },
  {
   "cell_type": "code",
   "execution_count": 15,
   "metadata": {},
   "outputs": [],
   "source": [
    "total_reverse_inv = {j:i for i,j in total_inv.items()} #reverse keys and values; "
   ]
  },
  {
   "cell_type": "code",
   "execution_count": 16,
   "metadata": {},
   "outputs": [],
   "source": [
    "from inventories.convertor import itemnumber_equivalences"
   ]
  },
  {
   "cell_type": "code",
   "execution_count": 17,
   "metadata": {},
   "outputs": [],
   "source": [
    "# jde dict to cad dict:\n",
    "#e.g {185671:185680,  24107929:185536}\n",
    "def jde2cad(dict_to_convert):\n",
    "    return {total_reverse_inv.get(j): total_reverse_inv.get(k) for j,k in dict_to_convert.items()}"
   ]
  },
  {
   "cell_type": "code",
   "execution_count": 19,
   "metadata": {},
   "outputs": [],
   "source": [
    "itemnumber_equivalences = jde2cad(itemnumber_equivalences)"
   ]
  }
 ],
 "metadata": {
  "kernelspec": {
   "display_name": "Python 3",
   "language": "python",
   "name": "python3"
  },
  "language_info": {
   "codemirror_mode": {
    "name": "ipython",
    "version": 3
   },
   "file_extension": ".py",
   "mimetype": "text/x-python",
   "name": "python",
   "nbconvert_exporter": "python",
   "pygments_lexer": "ipython3",
   "version": "3.7.3"
  }
 },
 "nbformat": 4,
 "nbformat_minor": 2
}
