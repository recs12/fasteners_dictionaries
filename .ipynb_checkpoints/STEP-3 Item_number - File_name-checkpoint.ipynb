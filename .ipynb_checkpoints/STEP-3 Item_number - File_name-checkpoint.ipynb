{
 "cells": [
  {
   "cell_type": "code",
   "execution_count": 2,
   "metadata": {},
   "outputs": [
    {
     "name": "stdout",
     "output_type": "stream",
     "text": [
      " Volume in drive C has no label.\n",
      " Volume Serial Number is 62A3-1DA8\n",
      "\n",
      " Directory of C:\\Users\\Slimane\\Desktop\\fasteners_dictionaries\n",
      "\n",
      "26/01/2020  22:37    <DIR>          .\n",
      "26/01/2020  22:37    <DIR>          ..\n",
      "26/01/2020  22:37    <DIR>          .ipynb_checkpoints\n",
      "26/01/2020  07:07                 0 __init__.py\n",
      "26/01/2020  07:07    <DIR>          __pycache__\n",
      "26/01/2020  22:30                 9 equiv.py\n",
      "26/01/2020  07:07           817,999 exportBoulonnerie.xlsx\n",
      "26/01/2020  08:18             8,939 imperial_to_metric.py\n",
      "26/01/2020  21:42    <DIR>          inventories\n",
      "26/01/2020  21:59            52,402 nuts.py\n",
      "26/01/2020  07:07         2,434,550 nuts.xlsx\n",
      "26/01/2020  21:59            52,404 screws.py\n",
      "26/01/2020  07:07         2,432,958 screws.xlsx\n",
      "26/01/2020  22:01             1,592 STEP-1 Generate screws - nuts - washers.ipynb\n",
      "26/01/2020  22:35            15,899 STEP-2 Get imperial-metric mapping.ipynb\n",
      "26/01/2020  08:13           106,723 STEP-3 Item_number - File_name.ipynb\n",
      "26/01/2020  07:07        14,145,592 temporary_jde.csv\n",
      "26/01/2020  21:59            52,405 washers.py\n",
      "26/01/2020  07:07         2,432,963 washers.xlsx\n",
      "              14 File(s)     22,554,435 bytes\n",
      "               5 Dir(s)  203,009,318,912 bytes free\n"
     ]
    }
   ],
   "source": [
    "ls"
   ]
  },
  {
   "cell_type": "code",
   "execution_count": 4,
   "metadata": {},
   "outputs": [
    {
     "ename": "SyntaxError",
     "evalue": "invalid token (nuts.py, line 78)",
     "output_type": "error",
     "traceback": [
      "Traceback \u001b[1;36m(most recent call last)\u001b[0m:\n",
      "  File \u001b[0;32m\"c:\\programdata\\miniconda3\\lib\\site-packages\\IPython\\core\\interactiveshell.py\"\u001b[0m, line \u001b[0;32m3326\u001b[0m, in \u001b[0;35mrun_code\u001b[0m\n    exec(code_obj, self.user_global_ns, self.user_ns)\n",
      "\u001b[1;36m  File \u001b[1;32m\"<ipython-input-4-3db9137b67e1>\"\u001b[1;36m, line \u001b[1;32m1\u001b[1;36m, in \u001b[1;35m<module>\u001b[1;36m\u001b[0m\n\u001b[1;33m    from nuts import nuts as nuts_inv\u001b[0m\n",
      "\u001b[1;36m  File \u001b[1;32m\"C:\\Users\\Slimane\\Desktop\\fasteners_dictionaries\\nuts.py\"\u001b[1;36m, line \u001b[1;32m78\u001b[0m\n\u001b[1;33m    \"VP_0.313-18X0.625_SS316.PAR\": 011,\u001b[0m\n\u001b[1;37m                                     ^\u001b[0m\n\u001b[1;31mSyntaxError\u001b[0m\u001b[1;31m:\u001b[0m invalid token\n"
     ]
    }
   ],
   "source": [
    "from nuts import nuts as nuts_inv\n"
   ]
  },
  {
   "cell_type": "code",
   "execution_count": 5,
   "metadata": {},
   "outputs": [
    {
     "ename": "SyntaxError",
     "evalue": "invalid token (screws.py, line 78)",
     "output_type": "error",
     "traceback": [
      "Traceback \u001b[1;36m(most recent call last)\u001b[0m:\n",
      "  File \u001b[0;32m\"c:\\programdata\\miniconda3\\lib\\site-packages\\IPython\\core\\interactiveshell.py\"\u001b[0m, line \u001b[0;32m3326\u001b[0m, in \u001b[0;35mrun_code\u001b[0m\n    exec(code_obj, self.user_global_ns, self.user_ns)\n",
      "\u001b[1;36m  File \u001b[1;32m\"<ipython-input-5-680148b9a8aa>\"\u001b[1;36m, line \u001b[1;32m1\u001b[1;36m, in \u001b[1;35m<module>\u001b[1;36m\u001b[0m\n\u001b[1;33m    from screws import screws as screws_inv\u001b[0m\n",
      "\u001b[1;36m  File \u001b[1;32m\"C:\\Users\\Slimane\\Desktop\\fasteners_dictionaries\\screws.py\"\u001b[1;36m, line \u001b[1;32m78\u001b[0m\n\u001b[1;33m    \"VP_0.313-18X0.625_SS316.PAR\": 011,\u001b[0m\n\u001b[1;37m                                     ^\u001b[0m\n\u001b[1;31mSyntaxError\u001b[0m\u001b[1;31m:\u001b[0m invalid token\n"
     ]
    }
   ],
   "source": [
    "from screws import screws as screws_inv"
   ]
  },
  {
   "cell_type": "code",
   "execution_count": 6,
   "metadata": {},
   "outputs": [
    {
     "ename": "SyntaxError",
     "evalue": "invalid token (washers.py, line 78)",
     "output_type": "error",
     "traceback": [
      "Traceback \u001b[1;36m(most recent call last)\u001b[0m:\n",
      "  File \u001b[0;32m\"c:\\programdata\\miniconda3\\lib\\site-packages\\IPython\\core\\interactiveshell.py\"\u001b[0m, line \u001b[0;32m3326\u001b[0m, in \u001b[0;35mrun_code\u001b[0m\n    exec(code_obj, self.user_global_ns, self.user_ns)\n",
      "\u001b[1;36m  File \u001b[1;32m\"<ipython-input-6-66348971e700>\"\u001b[1;36m, line \u001b[1;32m1\u001b[1;36m, in \u001b[1;35m<module>\u001b[1;36m\u001b[0m\n\u001b[1;33m    from washers import washers as washers_inv\u001b[0m\n",
      "\u001b[1;36m  File \u001b[1;32m\"C:\\Users\\Slimane\\Desktop\\fasteners_dictionaries\\washers.py\"\u001b[1;36m, line \u001b[1;32m78\u001b[0m\n\u001b[1;33m    \"VP_0.313-18X0.625_SS316.PAR\": 011,\u001b[0m\n\u001b[1;37m                                     ^\u001b[0m\n\u001b[1;31mSyntaxError\u001b[0m\u001b[1;31m:\u001b[0m invalid token\n"
     ]
    }
   ],
   "source": [
    "from washers import washers as washers_inv"
   ]
  },
  {
   "cell_type": "code",
   "execution_count": null,
   "metadata": {},
   "outputs": [],
   "source": [
    "total_inv = {**nuts_inv, **screws_inv, **washers_inv}"
   ]
  },
  {
   "cell_type": "code",
   "execution_count": 7,
   "metadata": {},
   "outputs": [
    {
     "ename": "NameError",
     "evalue": "name 'nuts_inv' is not defined",
     "output_type": "error",
     "traceback": [
      "\u001b[1;31m---------------------------------------------------------------------------\u001b[0m",
      "\u001b[1;31mNameError\u001b[0m                                 Traceback (most recent call last)",
      "\u001b[1;32m<ipython-input-7-3b1703c76c8a>\u001b[0m in \u001b[0;36m<module>\u001b[1;34m\u001b[0m\n\u001b[1;32m----> 1\u001b[1;33m \u001b[0mreverse_nuts_inv\u001b[0m \u001b[1;33m=\u001b[0m \u001b[1;33m{\u001b[0m\u001b[0mj\u001b[0m\u001b[1;33m:\u001b[0m\u001b[0mi\u001b[0m \u001b[1;32mfor\u001b[0m \u001b[0mi\u001b[0m\u001b[1;33m,\u001b[0m\u001b[0mj\u001b[0m \u001b[1;32min\u001b[0m \u001b[0mnuts_inv\u001b[0m\u001b[1;33m.\u001b[0m\u001b[0mitems\u001b[0m\u001b[1;33m(\u001b[0m\u001b[1;33m)\u001b[0m\u001b[1;33m}\u001b[0m \u001b[1;31m#reverse keys and values;\u001b[0m\u001b[1;33m\u001b[0m\u001b[1;33m\u001b[0m\u001b[0m\n\u001b[0m\u001b[0;32m      2\u001b[0m \u001b[0mreverse_nuts_inv\u001b[0m\u001b[1;33m\u001b[0m\u001b[1;33m\u001b[0m\u001b[0m\n",
      "\u001b[1;31mNameError\u001b[0m: name 'nuts_inv' is not defined"
     ]
    }
   ],
   "source": [
    "total_reverse_inv = {j:i for i,j in total_inv.items()} #reverse keys and values; \n",
    "total_reverse_inv"
   ]
  },
  {
   "cell_type": "code",
   "execution_count": 60,
   "metadata": {},
   "outputs": [],
   "source": [
    "# jde dict to cad dict:\n",
    "#e.g {185671:185680,  24107929:185536}\n",
    "def jde2cad(sample):\n",
    "    return {total_reverse_inv.get(j): total_reverse_inv.get(k) for j,k in sample.items()}"
   ]
  },
  {
   "cell_type": "code",
   "execution_count": 46,
   "metadata": {},
   "outputs": [
    {
     "data": {
      "text/plain": [
       "{'VTCY_0.138-32X0.625_SS.PAR': 'VTCY_0.250-20X1.750_SS.PAR'}"
      ]
     },
     "execution_count": 46,
     "metadata": {},
     "output_type": "execute_result"
    }
   ],
   "source": [
    "jde2cad({185671:185680})"
   ]
  }
 ],
 "metadata": {
  "kernelspec": {
   "display_name": "Python 3",
   "language": "python",
   "name": "python3"
  },
  "language_info": {
   "codemirror_mode": {
    "name": "ipython",
    "version": 3
   },
   "file_extension": ".py",
   "mimetype": "text/x-python",
   "name": "python",
   "nbconvert_exporter": "python",
   "pygments_lexer": "ipython3",
   "version": "3.7.3"
  }
 },
 "nbformat": 4,
 "nbformat_minor": 2
}
